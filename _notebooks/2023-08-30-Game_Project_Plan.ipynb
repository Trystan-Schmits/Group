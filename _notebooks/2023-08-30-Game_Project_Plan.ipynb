{
 "cells": [
  {
   "attachments": {},
   "cell_type": "markdown",
   "metadata": {},
   "source": [
    "---\n",
    "comments: true\n",
    "layout: hacks\n",
    "title: Game Project plan\n",
    "description: Main plan for the game; Brain writing\n",
    "type: plans\n",
    "courses: { compsci: {week: 1} }\n",
    "---"
   ]
  },
  {
   "cell_type": "markdown",
   "metadata": {},
   "source": [
    "## Gameplay Explanation\n",
    "\n",
    "*The Move In* is a game about Josh Jaden Jackson, a man who just moved into a new apartment and also has paranoia schizophrenia. Throughout the game you observe things that seem supernatural, but yet are just created from his mind.\n",
    "\n",
    "Near the end there are a couple twist ;)\n",
    "\n",
    "### Part 1\n",
    "\n",
    "Jaden unpacks boxes, each making a loud scrape noise that cardboxes usually make. He goes as slow as possible, or atleast it feels that way. As he unpacks, he wonders where his friends are, and as he finishes unpacking the boxes, he hears a knock on the door. He wonders if its his friends. He walks towards the front door of his \"new\" apartment, as he gets closer, he starts to feel extremely anxious.\n",
    "\n",
    "Finally he reaches the door, it all suddenly stops, and he cautiously opens the door. To his surprise he sees his new neighbor, Amanda. She excitedly discusses about seeing him everyday, but Jaden was not interested and a little sad that his friends were not the ones behind. So he kinda unkindly tells her to go away.\n",
    "\n",
    "Jaden then continues back to unpack a little more. After a while, he gives up on his friends coming and goes to bed.\n",
    "\n",
    "### First Minigame\n",
    "\n",
    "You start in the main security office, or just a desk and grey room (Kinda like fnaf but different). As you sit at your desk, you can do a few things: 1) You can go on your computer, 2) drink your coffee, and 3) just sit there. But as you sit there, you have a deep urge to walk around the empty office building. You take the elevator and explore and as you get deeper and deeper into the building you discover two things: 1) Its infinite and 2) There entities inside the building and you definitely don't want them to know where you are... but they already know where you are...\n",
    "\n",
    "This first minigame is the first build up in the gameplay and story. Although you don't see much in this first part, the game still creates this intense feeling from the audio and visual surroundings. Basically, by removing the knowledge of when and where these entities that are hunting you, your other senses are being heightened and you become afraid by every little thing that you hear or see.\n",
    "\n",
    "### Part 2\n",
    "\n",
    "You wake up and act like nothing happened. The main character goes out to introduce himself to his new neighbors. He first goes to Amanda's apartment to apologize, he walks next door and knocks on her door. He only does it once, but as he waits longer, he starts to hear intense whispers and darkness closing in on the character. And as its about to reach you, the door opens and you can only see her two eyes while her body is shrouded in darkness. He quickly apologizes and then walks to 3 other apartments and introduces himself, each one acting normally.\n",
    "\n",
    "In Part 2, we basically relax the player down a little after the intensity of the First Minigame. After that, we get them into the mindset of the game is slowing down a little, and as soon as they assume that, we hit them with Amanda's apartment. What this does is two things: 1) Creates a feel of panic because the player is so confused and can't do anything (Because we prevent movement) and 2) Makes them feel unsafe from everything in the game and that they can't assume anything at all, this will make them always on their feet when playing.\n",
    "\n",
    "### Second Minigame\n",
    "\n",
    "You start in an alley as a little girl. She's wearing a 1940's dress and boots. She wanders farther into the alley and notices a note on the wall, it has a picture of an eye and text reading \"He watches\" As you put the note back down \"He\" passes by a connecting alley. The player will have to prevent themselves from being found or else they will have to restart the minigame. The player will eventually go through each stage in which they will reach an elevator and once they go up the minigame will end.\n",
    "\n",
    "This Second Minigame will build up more story without losing much of its anxiety inducing elements.\n",
    "\n",
    "### Part 3\n",
    "\n",
    "**(Everything below has not been determined yet)**"
   ]
  },
  {
   "cell_type": "markdown",
   "metadata": {},
   "source": [
    "## Jobs\n",
    "\n",
    "Sean: Background and item art\n",
    "Trystan: Gameplay code\n",
    "Zafeer: Record Plans and Data\n",
    "Spencer: Game planning and gameplay code\n",
    "\n",
    "## Plan for Developing Game\n",
    "\n",
    "So far we have built a scene and are in the process of adding interactables. Once we are done with that, we will finish part one of the game.\n",
    "\n",
    "Once we finish Part 1, next week we will start building the First Minigame."
   ]
  }
 ],
 "metadata": {
  "kernelspec": {
   "display_name": "Python 3 (ipykernel)",
   "language": "python",
   "name": "python3"
  },
  "language_info": {
   "codemirror_mode": {
    "name": "ipython",
    "version": 3
   },
   "file_extension": ".py",
   "mimetype": "text/x-python",
   "name": "python",
   "nbconvert_exporter": "python",
   "pygments_lexer": "ipython3",
   "version": "3.10.12"
  }
 },
 "nbformat": 4,
 "nbformat_minor": 2
}
