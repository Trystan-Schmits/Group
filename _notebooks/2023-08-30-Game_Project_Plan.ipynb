{
 "cells": [
  {
   "attachments": {},
   "cell_type": "markdown",
   "metadata": {},
   "source": [
    "---\n",
    "toc: false\n",
    "comments: true\n",
    "layout: post\n",
    "title: Game Project plan\n",
    "description: Main plan for game\n",
    "type: plans\n",
    "courses: { compsci: {week: 1} }\n",
    "permalink: /plans/Game_Project_Plan\n",
    "---"
   ]
  },
  {
   "cell_type": "markdown",
   "metadata": {},
   "source": [
    "## Plot\n",
    "\n",
    "1. Main Character Moves into\n",
    "2. \n",
    "3. \n",
    "4. \n",
    "5. "
   ]
  },
  {
   "cell_type": "markdown",
   "metadata": {},
   "source": [
    "## Code\n",
    "Canvas Setup:\n",
    "\n",
    "The program starts with the creation of a canvas (where the game or animation will be displayed).\n",
    "It has to be 400 pixels tall because that is the height of the screen (it becomes fuzzy if you scale it, and you get weird animation issues). [How to make sprite sheets on vscode](https://www.itorian.com/2014/02/creating-image-sprite-in-visual-studio.html#:~:text=Step%201%3A%20Select%20images%20and,added%20inside%20'images'%20folder.)\n",
    "\n",
    "Frame Loop:\n",
    "The code sets up a loop that runs a function every frame. This function is executed with some specified frames per second (fps) or frame rate.\n",
    "\n",
    "Function Execution in the Frame Loop:\n",
    "Within the frame loop, various functions are executed. These functions seem to perform different tasks such as hitbox checking and drawing the current frame.\n",
    "User Input Handling:\n",
    "\n",
    "When the user presses either the 'a' or 'd' key, a function is triggered. This function likely updates the position of something in the game, possibly the player character.\n",
    "Position Update:\n",
    "\n",
    "After pressing 'a' or 'd', the position is updated. This could be the position of the player character or some other element in the game.\n",
    "Screen Scroll and Walking Animation:\n",
    "\n",
    "The updated position is then used to perform a screen scroll. This might involve adjusting what part of the game world is currently visible on the screen, creating the illusion of movement.\n",
    "Additionally, there's a mention of a walking animation. This suggests that when the player character moves, it's not just a static change in position, but an animated transition to create a more visually appealing effect.\n",
    "Faking Movement:\n",
    "\n",
    "The combination of screen scrolling and a walking animation is described as \"faking movement.\" This means that the appearance of movement is created without actually moving or changing the position of all the objects in the game world. Instead, the visible portion of the game world is adjusted."
   ]
  }
 ],
 "metadata": {
  "kernelspec": {
   "display_name": "Python 3 (ipykernel)",
   "language": "python",
   "name": "python3"
  },
  "language_info": {
   "codemirror_mode": {
    "name": "ipython",
    "version": 3
   },
   "file_extension": ".py",
   "mimetype": "text/x-python",
   "name": "python",
   "nbconvert_exporter": "python",
   "pygments_lexer": "ipython3",
   "version": "3.10.12"
  }
 },
 "nbformat": 4,
 "nbformat_minor": 2
}
