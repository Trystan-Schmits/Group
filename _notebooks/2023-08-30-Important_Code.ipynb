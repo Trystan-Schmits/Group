{
 "cells": [
  {
   "cell_type": "markdown",
   "metadata": {},
   "source": [
    "---\n",
    "comments: true\n",
    "layout: post\n",
    "title: Important Code\n",
    "description: Important Code\n",
    "courses: { compsci:{week: 7} }\n",
    "type: hacks\n",
    "permalink: /IC/home\n",
    "---"
   ]
  },
  {
   "cell_type": "raw",
   "metadata": {},
   "source": [
    "{% include nav_basics.html %}"
   ]
  },
  {
   "cell_type": "markdown",
   "metadata": {},
   "source": [
    "\n",
    "# A guide to basic concepts in Web Notebook\n",
    "- Making a menu\n",
    "- Review foundational topics (see menus HTML, JavaScript, DOM, CSS)\n",
    "- Guide to make your own custom page\n",
    "- Making page dynamic through JavaScript\n",
    "- Looking at Styles in GitHub Pages\n",
    "\n",
    "\n",
    "This Page Should Actually Exist"
   ]
  }
 ],
 "metadata": {
  "kernelspec": {
   "display_name": "Python 3",
   "language": "python",
   "name": "python3"
  },
  "language_info": {
   "codemirror_mode": {
    "name": "ipython",
    "version": 3
   },
   "file_extension": ".py",
   "mimetype": "text/x-python",
   "name": "python",
   "nbconvert_exporter": "python",
   "pygments_lexer": "ipython3",
   "version": "3.10.12"
  },
  "orig_nbformat": 4
 },
 "nbformat": 4,
 "nbformat_minor": 2
}
